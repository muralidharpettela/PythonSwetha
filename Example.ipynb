{
 "cells": [
  {
   "cell_type": "markdown",
   "id": "african-slovak",
   "metadata": {},
   "source": [
    "# print(\"Hello World!\")"
   ]
  },
  {
   "cell_type": "code",
   "execution_count": 2,
   "id": "sapphire-trinidad",
   "metadata": {},
   "outputs": [],
   "source": [
    "import example"
   ]
  },
  {
   "cell_type": "code",
   "execution_count": 3,
   "id": "champion-dietary",
   "metadata": {},
   "outputs": [
    {
     "data": {
      "text/plain": [
       "4"
      ]
     },
     "execution_count": 3,
     "metadata": {},
     "output_type": "execute_result"
    }
   ],
   "source": [
    "example.add(2,2)"
   ]
  },
  {
   "cell_type": "code",
   "execution_count": 4,
   "id": "quiet-booking",
   "metadata": {},
   "outputs": [
    {
     "data": {
      "text/plain": [
       "-2"
      ]
     },
     "execution_count": 4,
     "metadata": {},
     "output_type": "execute_result"
    }
   ],
   "source": [
    "example.sub(7,9)"
   ]
  },
  {
   "cell_type": "markdown",
   "id": "final-amsterdam",
   "metadata": {},
   "source": [
    "# ex:1 this program adds two numbers"
   ]
  },
  {
   "cell_type": "code",
   "execution_count": 1,
   "id": "revised-recall",
   "metadata": {},
   "outputs": [
    {
     "name": "stdout",
     "output_type": "stream",
     "text": [
      "enter a first number4\n",
      "enter a second number5\n",
      "the sum of 4 and 5 is 9.0\n"
     ]
    }
   ],
   "source": [
    "num1=input(\"enter a first number\")\n",
    "num2=input(\"enter a second number\")\n",
    "sum=float(num1)+float(num2)\n",
    "print(\"the sum of {0} and {1} is {2}\".format(num1,num2,sum))"
   ]
  },
  {
   "cell_type": "markdown",
   "id": "weird-aluminum",
   "metadata": {},
   "source": [
    "# ex2 the largest number"
   ]
  },
  {
   "cell_type": "code",
   "execution_count": 1,
   "id": "drawn-sellers",
   "metadata": {},
   "outputs": [
    {
     "name": "stdout",
     "output_type": "stream",
     "text": [
      "largest number 14\n"
     ]
    }
   ],
   "source": [
    "num1=5\n",
    "num2=14\n",
    "num3=12\n",
    "if num1>=num2 and num1>=num3:\n",
    "    largest=num1\n",
    "elif num2>=num1 and num2>=num3:\n",
    "    largest=num2\n",
    "else:\n",
    "    largest=num3\n",
    "print(\"largest number\",largest)"
   ]
  },
  {
   "cell_type": "markdown",
   "id": "heated-stand",
   "metadata": {},
   "source": [
    "# ex3 finding the square root for a numbers"
   ]
  },
  {
   "cell_type": "code",
   "execution_count": 2,
   "id": "marked-uruguay",
   "metadata": {},
   "outputs": [
    {
     "ename": "NameError",
     "evalue": "name 'num' is not defined",
     "output_type": "error",
     "traceback": [
      "\u001b[0;31m---------------------------------------------------------------------------\u001b[0m",
      "\u001b[0;31mNameError\u001b[0m                                 Traceback (most recent call last)",
      "\u001b[0;32m<ipython-input-2-fa14c516e08f>\u001b[0m in \u001b[0;36m<module>\u001b[0;34m\u001b[0m\n\u001b[1;32m      1\u001b[0m \u001b[0;32mimport\u001b[0m \u001b[0mcmath\u001b[0m\u001b[0;34m\u001b[0m\u001b[0;34m\u001b[0m\u001b[0m\n\u001b[0;32m----> 2\u001b[0;31m \u001b[0mnum_sqrt\u001b[0m\u001b[0;34m=\u001b[0m\u001b[0mcmath\u001b[0m\u001b[0;34m.\u001b[0m\u001b[0msqrt\u001b[0m\u001b[0;34m(\u001b[0m\u001b[0mnum\u001b[0m\u001b[0;34m)\u001b[0m\u001b[0;34m\u001b[0m\u001b[0;34m\u001b[0m\u001b[0m\n\u001b[0m\u001b[1;32m      3\u001b[0m \u001b[0mprint\u001b[0m\u001b[0;34m(\u001b[0m\u001b[0;34m\"the sqrt of {0} is {1:0.3f}+{2:0.3f}j\"\u001b[0m\u001b[0;34m.\u001b[0m\u001b[0mformat\u001b[0m\u001b[0;34m(\u001b[0m\u001b[0mnum\u001b[0m\u001b[0;34m,\u001b[0m\u001b[0mnum_sqrt\u001b[0m\u001b[0;34m.\u001b[0m\u001b[0mreal\u001b[0m\u001b[0;34m,\u001b[0m\u001b[0mnum_sqrt\u001b[0m\u001b[0;34m.\u001b[0m\u001b[0mimag\u001b[0m\u001b[0;34m)\u001b[0m\u001b[0;34m)\u001b[0m\u001b[0;34m\u001b[0m\u001b[0;34m\u001b[0m\u001b[0m\n",
      "\u001b[0;31mNameError\u001b[0m: name 'num' is not defined"
     ]
    }
   ],
   "source": []
  },
  {
   "cell_type": "code",
   "execution_count": null,
   "id": "charitable-think",
   "metadata": {},
   "outputs": [],
   "source": []
  }
 ],
 "metadata": {
  "kernelspec": {
   "display_name": "Python 3",
   "language": "python",
   "name": "python3"
  },
  "language_info": {
   "codemirror_mode": {
    "name": "ipython",
    "version": 3
   },
   "file_extension": ".py",
   "mimetype": "text/x-python",
   "name": "python",
   "nbconvert_exporter": "python",
   "pygments_lexer": "ipython3",
   "version": "3.7.10"
  }
 },
 "nbformat": 4,
 "nbformat_minor": 5
}
