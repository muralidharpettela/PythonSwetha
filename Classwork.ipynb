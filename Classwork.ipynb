{
 "cells": [
  {
   "cell_type": "markdown",
   "id": "inappropriate-nashville",
   "metadata": {},
   "source": [
    "# Python Modules"
   ]
  },
  {
   "cell_type": "markdown",
   "id": "interesting-mobile",
   "metadata": {},
   "source": [
    "Modules refer to a file containing Python statements and definations. A file containing python code, for example example.py is called a module, and its module name would be example"
   ]
  },
  {
   "cell_type": "markdown",
   "id": "capital-papua",
   "metadata": {},
   "source": [
    "## Python import statement"
   ]
  },
  {
   "cell_type": "code",
   "execution_count": 1,
   "id": "hispanic-validation",
   "metadata": {},
   "outputs": [],
   "source": [
    "import example"
   ]
  },
  {
   "cell_type": "code",
   "execution_count": 2,
   "id": "square-allen",
   "metadata": {},
   "outputs": [
    {
     "data": {
      "text/plain": [
       "8"
      ]
     },
     "execution_count": 2,
     "metadata": {},
     "output_type": "execute_result"
    }
   ],
   "source": [
    "example.add(3,5)"
   ]
  },
  {
   "cell_type": "code",
   "execution_count": 3,
   "id": "martial-consolidation",
   "metadata": {},
   "outputs": [
    {
     "data": {
      "text/plain": [
       "-2"
      ]
     },
     "execution_count": 3,
     "metadata": {},
     "output_type": "execute_result"
    }
   ],
   "source": [
    "example.sub(3,5)"
   ]
  },
  {
   "cell_type": "code",
   "execution_count": 13,
   "id": "controlled-fleece",
   "metadata": {},
   "outputs": [],
   "source": [
    "from example import add, sub"
   ]
  },
  {
   "cell_type": "code",
   "execution_count": 14,
   "id": "rubber-lodge",
   "metadata": {},
   "outputs": [
    {
     "data": {
      "text/plain": [
       "8"
      ]
     },
     "execution_count": 14,
     "metadata": {},
     "output_type": "execute_result"
    }
   ],
   "source": [
    "add(3,5)"
   ]
  },
  {
   "cell_type": "code",
   "execution_count": 15,
   "id": "impressed-alexandria",
   "metadata": {},
   "outputs": [
    {
     "data": {
      "text/plain": [
       "-3"
      ]
     },
     "execution_count": 15,
     "metadata": {},
     "output_type": "execute_result"
    }
   ],
   "source": [
    "sub(5,8)"
   ]
  },
  {
   "cell_type": "code",
   "execution_count": null,
   "id": "gothic-store",
   "metadata": {},
   "outputs": [],
   "source": []
  },
  {
   "cell_type": "code",
   "execution_count": 4,
   "id": "intended-diameter",
   "metadata": {},
   "outputs": [],
   "source": [
    "import math"
   ]
  },
  {
   "cell_type": "code",
   "execution_count": 5,
   "id": "major-framing",
   "metadata": {},
   "outputs": [
    {
     "name": "stdout",
     "output_type": "stream",
     "text": [
      "Th value of pi is 3.141592653589793\n"
     ]
    }
   ],
   "source": [
    "print(\"The value of pi is\", math.pi)"
   ]
  },
  {
   "cell_type": "code",
   "execution_count": 18,
   "id": "particular-classroom",
   "metadata": {},
   "outputs": [],
   "source": [
    "from example import *"
   ]
  },
  {
   "cell_type": "code",
   "execution_count": 19,
   "id": "attached-jamaica",
   "metadata": {},
   "outputs": [
    {
     "data": {
      "text/plain": [
       "8"
      ]
     },
     "execution_count": 19,
     "metadata": {},
     "output_type": "execute_result"
    }
   ],
   "source": [
    "add(3,5)"
   ]
  },
  {
   "cell_type": "markdown",
   "id": "meaningful-beginning",
   "metadata": {},
   "source": [
    "## Python import statements with renaming"
   ]
  },
  {
   "cell_type": "code",
   "execution_count": 6,
   "id": "pressing-cathedral",
   "metadata": {},
   "outputs": [],
   "source": [
    "import math as m"
   ]
  },
  {
   "cell_type": "code",
   "execution_count": 7,
   "id": "documented-third",
   "metadata": {},
   "outputs": [
    {
     "name": "stdout",
     "output_type": "stream",
     "text": [
      "The value of pi is 3.141592653589793\n"
     ]
    }
   ],
   "source": [
    "print(\"The value of pi is\", m.pi)"
   ]
  },
  {
   "cell_type": "markdown",
   "id": "sophisticated-noise",
   "metadata": {},
   "source": [
    "## Python from....import statements"
   ]
  },
  {
   "cell_type": "code",
   "execution_count": 8,
   "id": "fleet-calculator",
   "metadata": {},
   "outputs": [],
   "source": [
    "from math import pi"
   ]
  },
  {
   "cell_type": "code",
   "execution_count": 9,
   "id": "general-catch",
   "metadata": {},
   "outputs": [
    {
     "name": "stdout",
     "output_type": "stream",
     "text": [
      "The value of pi is 3.141592653589793\n"
     ]
    }
   ],
   "source": [
    "print(\"The value of pi is\", pi)"
   ]
  },
  {
   "cell_type": "code",
   "execution_count": 10,
   "id": "ancient-receptor",
   "metadata": {},
   "outputs": [],
   "source": [
    "from math import pi,e"
   ]
  },
  {
   "cell_type": "code",
   "execution_count": 11,
   "id": "separated-blocking",
   "metadata": {},
   "outputs": [
    {
     "data": {
      "text/plain": [
       "3.141592653589793"
      ]
     },
     "execution_count": 11,
     "metadata": {},
     "output_type": "execute_result"
    }
   ],
   "source": [
    "pi"
   ]
  },
  {
   "cell_type": "code",
   "execution_count": 12,
   "id": "addressed-governor",
   "metadata": {},
   "outputs": [
    {
     "data": {
      "text/plain": [
       "2.718281828459045"
      ]
     },
     "execution_count": 12,
     "metadata": {},
     "output_type": "execute_result"
    }
   ],
   "source": [
    "e"
   ]
  },
  {
   "cell_type": "markdown",
   "id": "defensive-pulse",
   "metadata": {},
   "source": [
    "## Python import all names"
   ]
  },
  {
   "cell_type": "code",
   "execution_count": 16,
   "id": "recreational-february",
   "metadata": {},
   "outputs": [],
   "source": [
    "from math import *"
   ]
  },
  {
   "cell_type": "code",
   "execution_count": 17,
   "id": "diagnostic-villa",
   "metadata": {},
   "outputs": [
    {
     "name": "stdout",
     "output_type": "stream",
     "text": [
      "The value of pi is 3.141592653589793\n"
     ]
    }
   ],
   "source": [
    "print(\"The value of pi is\", pi)"
   ]
  },
  {
   "cell_type": "markdown",
   "id": "instant-bruce",
   "metadata": {},
   "source": [
    "## Python Module Search Path "
   ]
  },
  {
   "cell_type": "code",
   "execution_count": 21,
   "id": "limiting-concentrate",
   "metadata": {},
   "outputs": [
    {
     "data": {
      "text/plain": [
       "['/home/jovyan',\n",
       " '/srv/conda/envs/notebook/lib/python37.zip',\n",
       " '/srv/conda/envs/notebook/lib/python3.7',\n",
       " '/srv/conda/envs/notebook/lib/python3.7/lib-dynload',\n",
       " '',\n",
       " '/srv/conda/envs/notebook/lib/python3.7/site-packages',\n",
       " '/srv/conda/envs/notebook/lib/python3.7/site-packages/IPython/extensions',\n",
       " '/home/jovyan/.ipython']"
      ]
     },
     "execution_count": 21,
     "metadata": {},
     "output_type": "execute_result"
    }
   ],
   "source": [
    "import sys\n",
    "\n",
    "sys.path"
   ]
  },
  {
   "cell_type": "markdown",
   "id": "suburban-measurement",
   "metadata": {},
   "source": [
    "# union and intersection model"
   ]
  },
  {
   "cell_type": "code",
   "execution_count": 1,
   "id": "german-logan",
   "metadata": {},
   "outputs": [
    {
     "name": "stdout",
     "output_type": "stream",
     "text": [
      "Intersection :  {1, 2, 3, 4, 5}\n",
      "union : {0, 1, 2, 3, 4, 5, 6, 7, 8, 'python'}\n",
      "{0, 1, 2, 3, 4, 5, 'python'}\n",
      "difference : {0, 'python'}\n",
      "symetric difference : {0, 6, 7, 8, 'python'}\n"
     ]
    }
   ],
   "source": [
    "A={0,1,2,2,3,3,4,5,5,\"python\"}\n",
    "B={1,2,2,3,4,5,6,7,8}\n",
    "print(\"Intersection : \",A&B)\n",
    "print(\"union :\",A|B)\n",
    "print(A)\n",
    "print(\"difference :\",A-B)\n",
    "print(\"symetric difference :\",A^B)\n"
   ]
  },
  {
   "cell_type": "markdown",
   "id": "gross-rwanda",
   "metadata": {},
   "source": [
    "# outer function and inner function"
   ]
  },
  {
   "cell_type": "code",
   "execution_count": 15,
   "id": "qualified-geography",
   "metadata": {},
   "outputs": [],
   "source": [
    "def outer_function():\n",
    "    b = 20\n",
    "    def inner_function():\n",
    "        a = 30\n",
    "        print(\"a=\", a)\n",
    "    inner_function()\n",
    "    print(\"a=\", a)\n"
   ]
  },
  {
   "cell_type": "code",
   "execution_count": 16,
   "id": "addressed-mercy",
   "metadata": {},
   "outputs": [
    {
     "name": "stdout",
     "output_type": "stream",
     "text": [
      "a= 30\n",
      "a= 10\n",
      "a= 10\n",
      "a= 30\n",
      "a= 10\n"
     ]
    }
   ],
   "source": [
    "a = 10\n",
    "outer_function()\n",
    "print(\"a=\", a)\n",
    "outer_function()\n",
    "# global a\n"
   ]
  },
  {
   "cell_type": "code",
   "execution_count": 18,
   "id": "closing-specific",
   "metadata": {},
   "outputs": [
    {
     "name": "stdout",
     "output_type": "stream",
     "text": [
      "a= 30\n",
      "a= 10\n",
      "a= 30\n",
      "a= 10\n",
      "a= 10\n"
     ]
    }
   ],
   "source": [
    "def inner_function():\n",
    "    # global a\n",
    "    a = 30\n",
    "    print(\"a=\", a)\n",
    "\n",
    "\n",
    "inner_function()\n",
    "print(\"a=\", a)\n",
    "\n",
    "a = 10\n",
    "outer_function()\n",
    "print(\"a=\", a)"
   ]
  },
  {
   "cell_type": "markdown",
   "id": "positive-stephen",
   "metadata": {},
   "source": [
    "# control statement flow statement"
   ]
  },
  {
   "cell_type": "code",
   "execution_count": 19,
   "id": "disciplinary-model",
   "metadata": {},
   "outputs": [
    {
     "name": "stdout",
     "output_type": "stream",
     "text": [
      "3 is a positive number\n",
      "This is always printed\n",
      "This is always printed\n"
     ]
    }
   ],
   "source": [
    "num = 3\n",
    "\n",
    "if num > 0:\n",
    "    print(num, \"is a positive number\")\n",
    "print(\"This is always printed\")\n",
    "\n",
    "num = -1\n",
    "\n",
    "if num > 0:\n",
    "    print(num, \"is a positive number\")\n",
    "print(\"This is always printed\")\n"
   ]
  },
  {
   "cell_type": "markdown",
   "id": "simple-hospital",
   "metadata": {},
   "source": [
    "# test expression"
   ]
  },
  {
   "cell_type": "code",
   "execution_count": 20,
   "id": "prescription-involvement",
   "metadata": {},
   "outputs": [
    {
     "name": "stdout",
     "output_type": "stream",
     "text": [
      "4 is a positive number\n"
     ]
    }
   ],
   "source": [
    "num = 4\n",
    "if num>=0:\n",
    "    print(num,\"is a positive number\")"
   ]
  },
  {
   "cell_type": "markdown",
   "id": "collaborative-basket",
   "metadata": {},
   "source": [
    "# if,elif,else statements"
   ]
  },
  {
   "cell_type": "code",
   "execution_count": 21,
   "id": "attended-letters",
   "metadata": {},
   "outputs": [
    {
     "name": "stdout",
     "output_type": "stream",
     "text": [
      "0\n"
     ]
    }
   ],
   "source": [
    "num = 0\n",
    "if num>0:\n",
    "    print(\"possitive number\")\n",
    "elif num==0:\n",
    "    print(\"0\")\n",
    "else:\n",
    "    print(\"negative num\")\n"
   ]
  },
  {
   "cell_type": "markdown",
   "id": "fitting-wildlife",
   "metadata": {},
   "source": [
    "# python nested if statements"
   ]
  },
  {
   "cell_type": "code",
   "execution_count": 22,
   "id": "grand-triangle",
   "metadata": {},
   "outputs": [
    {
     "name": "stdout",
     "output_type": "stream",
     "text": [
      "enter a number6\n",
      "type <class 'int'>\n",
      "positive number\n"
     ]
    }
   ],
   "source": [
    "num=input(\"enter a number\")\n",
    "num=int(num)\n",
    "print(\"type\",type(num))\n",
    "if num>=0:\n",
    "    if num==0:\n",
    "\n",
    "        print(\"0\")\n",
    "    else:\n",
    "        print(\"positive number\")\n",
    "else:\n",
    "    print(\"negative\")"
   ]
  },
  {
   "cell_type": "markdown",
   "id": "contained-terrain",
   "metadata": {},
   "source": [
    "# Break statement"
   ]
  },
  {
   "cell_type": "code",
   "execution_count": 23,
   "id": "gothic-tender",
   "metadata": {},
   "outputs": [
    {
     "name": "stdout",
     "output_type": "stream",
     "text": [
      "s\n",
      "t\n",
      "r\n",
      "the end\n"
     ]
    }
   ],
   "source": [
    "for var in \"string\":\n",
    "    if var==\"i\":\n",
    "        break\n",
    "    print(var)\n",
    "print(\"the end\")\n"
   ]
  },
  {
   "cell_type": "markdown",
   "id": "fundamental-dealer",
   "metadata": {},
   "source": [
    "# for,if continue"
   ]
  },
  {
   "cell_type": "code",
   "execution_count": 24,
   "id": "earlier-namibia",
   "metadata": {},
   "outputs": [
    {
     "name": "stdout",
     "output_type": "stream",
     "text": [
      "s\n",
      "t\n",
      "r\n",
      "n\n",
      "g\n",
      "the end\n"
     ]
    }
   ],
   "source": [
    "for var in \"string\":\n",
    "    if var==\"i\":\n",
    "        continue\n",
    "    print(var)\n",
    "print(\"the end\")\n"
   ]
  },
  {
   "cell_type": "markdown",
   "id": "automotive-underground",
   "metadata": {},
   "source": [
    "# if,continue,pass "
   ]
  },
  {
   "cell_type": "code",
   "execution_count": 6,
   "id": "furnished-potential",
   "metadata": {},
   "outputs": [
    {
     "name": "stdout",
     "output_type": "stream",
     "text": [
      "s\n",
      "t\n",
      "r\n",
      "n\n",
      "g\n",
      "the end\n"
     ]
    }
   ],
   "source": [
    "for var in \"string\":\n",
    "    if var in \"string\":\n",
    "        if var==\"i\":\n",
    "            continue\n",
    "    print(var)\n",
    "print(\"the end\")\n"
   ]
  },
  {
   "cell_type": "markdown",
   "id": "reliable-necklace",
   "metadata": {},
   "source": [
    "# python program that even or odd nummber"
   ]
  },
  {
   "cell_type": "code",
   "execution_count": 7,
   "id": "breeding-roots",
   "metadata": {},
   "outputs": [
    {
     "name": "stdout",
     "output_type": "stream",
     "text": [
      "Enter a number: 7\n",
      "7 is Odd\n"
     ]
    }
   ],
   "source": [
    "num = int(input(\"Enter a number: \"))\n",
    "if (num % 2) == 0:\n",
    "    print(\"{0} is Even\".format(num))\n",
    "else:\n",
    "    print(\"{0} is Odd\".format(num))"
   ]
  },
  {
   "cell_type": "markdown",
   "id": "polish-gender",
   "metadata": {},
   "source": [
    "# fibbanocci series"
   ]
  },
  {
   "cell_type": "code",
   "execution_count": 8,
   "id": "vocal-station",
   "metadata": {},
   "outputs": [
    {
     "name": "stdout",
     "output_type": "stream",
     "text": [
      "Enter a number: 5\n",
      "5\n"
     ]
    }
   ],
   "source": [
    " def fibanacci(n):\n",
    "    if n==0:\n",
    "       return 0\n",
    "    elif n==1:\n",
    "       return 1\n",
    "    else:\n",
    "       return fibanacci(n-1)+fibanacci(n-2)\n",
    " n = int(input(\"Enter a number: \"))\n",
    " print(fibanacci(n))"
   ]
  },
  {
   "cell_type": "markdown",
   "id": "marine-traveler",
   "metadata": {},
   "source": [
    "# list map lambada function"
   ]
  },
  {
   "cell_type": "code",
   "execution_count": 9,
   "id": "known-variety",
   "metadata": {},
   "outputs": [
    {
     "name": "stdout",
     "output_type": "stream",
     "text": [
      "[2, 10, 8, 12, 16, 22, 6, 24]\n",
      "[2, 10, 8, 12, 16, 22, 6, 24]\n",
      "[4, 6, 8, 12]\n",
      "[4, 6, 8, 12]\n"
     ]
    }
   ],
   "source": [
    "my_list = [1, 5, 4, 6, 8, 11, 3, 12]\n",
    "new_list=[]\n",
    "for x in my_list:\n",
    "    y=x*2\n",
    "    new_list.append(y)\n",
    "print(new_list)\n",
    "my_list = [1, 5, 4, 6, 8, 11, 3, 12]\n",
    "new_list=list(map(lambda x:x*2,my_list))\n",
    "print(new_list)\n",
    "my_list = [1, 5, 4, 6, 8, 11, 3, 12]  \n",
    "new_list=[]\n",
    "for x in my_list:\n",
    "    if x%2==0:\n",
    "        new_list.append(x)\n",
    "print(new_list)\n",
    "my_list = [1, 5, 4, 6, 8, 11, 3, 12]       \n",
    "new_list=list(filter(lambda x:x%2==0,my_list))\n",
    "print(new_list)\n"
   ]
  },
  {
   "cell_type": "code",
   "execution_count": 10,
   "id": "synthetic-illness",
   "metadata": {},
   "outputs": [
    {
     "name": "stdout",
     "output_type": "stream",
     "text": [
      "[2, 10, 8, 12, 16, 22, 6, 24]\n",
      "[4, 6, 8, 12]\n"
     ]
    }
   ],
   "source": [
    "my_list = [1, 5, 4, 6, 8, 11, 3, 12]\n",
    "new_list=list(map(lambda x:x*2,my_list))\n",
    "print(new_list)\n",
    "my_list = [1, 5, 4, 6, 8, 11, 3, 12]  \n",
    "new_list=[]\n",
    "for x in my_list:\n",
    "    if x%2==0:\n",
    "        new_list.append(x)\n",
    "print(new_list)"
   ]
  },
  {
   "cell_type": "markdown",
   "id": "analyzed-particular",
   "metadata": {},
   "source": [
    "# swap two numbers"
   ]
  },
  {
   "cell_type": "code",
   "execution_count": 11,
   "id": "postal-explosion",
   "metadata": {},
   "outputs": [
    {
     "name": "stdout",
     "output_type": "stream",
     "text": [
      "The value of x,y after swapping: 24,12\n"
     ]
    }
   ],
   "source": [
    "temp = x\n",
    "x = y\n",
    "y = temp\n",
    "print('The value of x,y after swapping: {},{}'.format(x,y))\n"
   ]
  },
  {
   "cell_type": "code",
   "execution_count": 17,
   "id": "bigger-haiti",
   "metadata": {},
   "outputs": [
    {
     "name": "stdout",
     "output_type": "stream",
     "text": [
      "1.60 kilometers is equal to 0.99 miles\n"
     ]
    }
   ],
   "source": [
    "kilometers=1.6\n",
    "conv_fac=0.62137\n",
    "miles = kilometers * conv_fac\n",
    "print('%0.2f kilometers is equal to %0.2f miles' %(kilometers,miles))\n"
   ]
  },
  {
   "cell_type": "code",
   "execution_count": null,
   "id": "fuzzy-relationship",
   "metadata": {},
   "outputs": [],
   "source": []
  }
 ],
 "metadata": {
  "kernelspec": {
   "display_name": "Python 3",
   "language": "python",
   "name": "python3"
  },
  "language_info": {
   "codemirror_mode": {
    "name": "ipython",
    "version": 3
   },
   "file_extension": ".py",
   "mimetype": "text/x-python",
   "name": "python",
   "nbconvert_exporter": "python",
   "pygments_lexer": "ipython3",
   "version": "3.7.10"
  }
 },
 "nbformat": 4,
 "nbformat_minor": 5
}
